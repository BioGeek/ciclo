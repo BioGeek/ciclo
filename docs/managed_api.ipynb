{
 "cells": [
  {
   "cell_type": "code",
   "execution_count": null,
   "metadata": {},
   "outputs": [],
   "source": [
    "import ciclo"
   ]
  },
  {
   "cell_type": "code",
   "execution_count": null,
   "metadata": {},
   "outputs": [],
   "source": [
    "from ciclo import managed\n",
    "\n",
    "def create_managed_state(strategy: str = \"jit\"):\n",
    "    model = Linear()\n",
    "    variables = model.init(jax.random.PRNGKey(0), jnp.empty((1, 28, 28, 1)))\n",
    "    return managed.ManagedState.create(\n",
    "        apply_fn=model.apply,\n",
    "        params=variables[\"params\"],\n",
    "        tx=optax.adamw(1e-3),\n",
    "        strategy=strategy,\n",
    "    )"
   ]
  },
  {
   "cell_type": "code",
   "execution_count": null,
   "metadata": {},
   "outputs": [],
   "source": [
    "@managed.train_step\n",
    "def managed_train_step(state: managed.ManagedState, batch):\n",
    "    inputs, labels = batch[\"image\"], batch[\"label\"]\n",
    "    logits = state.apply_fn({\"params\": state.params}, inputs)\n",
    "    loss = optax.softmax_cross_entropy_with_integer_labels(\n",
    "        logits=logits, labels=labels\n",
    "    ).mean()\n",
    "    logs = ciclo.logs()\n",
    "    # add at least one loss, these are used to compute gradients\n",
    "    logs.add_loss(\"loss\", loss)\n",
    "    # add any other metrics\n",
    "    logs.add_metric(\"accuracy\", jnp.mean(jnp.argmax(logits, -1) == labels))\n",
    "    logs.add_metric(\"loss\", loss)\n",
    "    return logs, state"
   ]
  },
  {
   "cell_type": "code",
   "execution_count": null,
   "metadata": {},
   "outputs": [],
   "source": [
    "total_steps = 5_000\n",
    "state = create_managed_state(strategy=\"jit\") # try \"data_parallel\" 🤯\n",
    "\n",
    "state, history, elapsed = ciclo.loop(\n",
    "    state,\n",
    "    ds_train.as_numpy_iterator(),\n",
    "    {\n",
    "        ciclo.every(1): [managed_train_step],\n",
    "        ciclo.every(steps=1000): [\n",
    "            ciclo.checkpoint(f\"logdir/getting_started/{int(time())}\")\n",
    "        ],\n",
    "        ciclo.every(1): [ciclo.keras_bar(total=total_steps, interval=0.4)],\n",
    "    },\n",
    "    stop=total_steps,\n",
    ")"
   ]
  },
  {
   "cell_type": "code",
   "execution_count": null,
   "metadata": {},
   "outputs": [],
   "source": [
    "import matplotlib.pyplot as plt\n",
    "\n",
    "# collect metric values\n",
    "steps, loss, accuracy = history.collect(\"steps\", \"loss\", \"accuracy\")\n",
    "\n",
    "def plot_metrics(steps, loss, accuracy):\n",
    "    fig, axs = plt.subplots(1, 2)\n",
    "    axs[0].plot(steps, loss)\n",
    "    axs[0].set_title(\"Loss\")\n",
    "    axs[1].plot(steps, accuracy)\n",
    "    axs[1].set_title(\"Accuracy\")\n",
    "    plt.show()\n",
    "\n",
    "plot_metrics(steps, loss, accuracy)"
   ]
  }
 ],
 "metadata": {
  "kernelspec": {
   "display_name": "Python 3.8.10 ('.venv': poetry)",
   "language": "python",
   "name": "python3"
  },
  "language_info": {
   "name": "python",
   "version": "3.8.10"
  },
  "orig_nbformat": 4,
  "vscode": {
   "interpreter": {
    "hash": "837323b0680a91cd479a755ec15454285571187869c11482e423dcee05b47bf8"
   }
  }
 },
 "nbformat": 4,
 "nbformat_minor": 2
}
