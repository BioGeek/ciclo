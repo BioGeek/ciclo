{
 "cells": [
  {
   "cell_type": "code",
   "execution_count": 1,
   "metadata": {},
   "outputs": [],
   "source": [
    "import ciclo"
   ]
  },
  {
   "cell_type": "code",
   "execution_count": 2,
   "metadata": {},
   "outputs": [
    {
     "name": "stderr",
     "output_type": "stream",
     "text": [
      "/home/cris/ciclo/.venv/lib/python3.8/site-packages/tqdm/auto.py:22: TqdmWarning: IProgress not found. Please update jupyter and ipywidgets. See https://ipywidgets.readthedocs.io/en/stable/user_install.html\n",
      "  from .autonotebook import tqdm as notebook_tqdm\n"
     ]
    }
   ],
   "source": [
    "import tensorflow as tf\n",
    "import tensorflow_datasets as tfds\n",
    "\n",
    "batch_size = 32\n",
    "\n",
    "ds_train: tf.data.Dataset = tfds.load(\"mnist\", split=\"train\", shuffle_files=True)\n",
    "ds_train = ds_train.repeat().shuffle(1024).batch(batch_size).prefetch(1)\n",
    "ds_valid: tf.data.Dataset = tfds.load(\"mnist\", split=\"test\", shuffle_files=True)\n",
    "ds_valid = ds_valid.batch(batch_size, drop_remainder=True).prefetch(1)"
   ]
  },
  {
   "cell_type": "code",
   "execution_count": 3,
   "metadata": {},
   "outputs": [
    {
     "name": "stderr",
     "output_type": "stream",
     "text": [
      "2023-01-06 17:45:16.209963: W tensorflow/core/kernels/data/cache_dataset_ops.cc:856] The calling iterator did not fully read the dataset being cached. In order to avoid unexpected truncation of the dataset, the partially cached contents of the dataset  will be discarded. This can happen if you have an input pipeline similar to `dataset.cache().take(k).repeat()`. You should use `dataset.take(k).cache().repeat()` instead.\n"
     ]
    },
    {
     "data": {
      "image/png": "[encoded data removed]",
      "text/plain": [
       "<Figure size 640x480 with 9 Axes>"
      ]
     },
     "metadata": {},
     "output_type": "display_data"
    }
   ],
   "source": [
    "import matplotlib.pyplot as plt\n",
    "\n",
    "samples = ds_train.as_numpy_iterator().next()\n",
    "# plot a 3x3 grid of the images using subplots\n",
    "fig, axs = plt.subplots(3, 3)\n",
    "for i in range(3):\n",
    "    for j in range(3):\n",
    "        axs[i, j].imshow(samples[\"image\"][i * 3 + j, :, :, 0], cmap=\"gray\")\n",
    "        axs[i, j].title.set_text(samples[\"label\"][i * 3 + j])\n",
    "        axs[i, j].axis(\"off\")"
   ]
  },
  {
   "cell_type": "code",
   "execution_count": 4,
   "metadata": {},
   "outputs": [],
   "source": [
    "import flax.linen as nn\n",
    "import jax\n",
    "import jax.numpy as jnp\n",
    "import optax\n",
    "from clu.metrics import Accuracy, Average, Collection\n",
    "from flax.training import train_state\n",
    "from flax import struct\n",
    "\n",
    "class LinearClassifier(nn.Module):\n",
    "    num_classes: int\n",
    "\n",
    "    @nn.compact\n",
    "    def __call__(self, x):\n",
    "        x = x.reshape((x.shape[0], -1))\n",
    "        x = nn.Dense(self.num_classes)(x)\n",
    "        return x\n",
    "\n",
    "@struct.dataclass\n",
    "class Metrics(Collection):\n",
    "    accuracy: Accuracy\n",
    "    loss: Average.from_output(\"loss\")\n",
    "\n",
    "class TrainState(train_state.TrainState):\n",
    "    metrics: Metrics\n",
    "\n",
    "def reset_metrics(state):\n",
    "    return state.replace(metrics=Metrics.empty())\n",
    "    \n",
    "def create_state():\n",
    "    module = LinearClassifier(num_classes=10)\n",
    "    variables = module.init(jax.random.PRNGKey(0), jnp.ones((1, 28, 28, 1)))\n",
    "    return TrainState.create(\n",
    "        apply_fn=module.apply, \n",
    "        params=variables[\"params\"], \n",
    "        tx=optax.adam(1e-3),\n",
    "        metrics=Metrics.empty(),\n",
    "    )"
   ]
  },
  {
   "cell_type": "code",
   "execution_count": 5,
   "metadata": {},
   "outputs": [],
   "source": [
    "@jax.jit\n",
    "def train_step(state, batch):\n",
    "    inputs, labels = batch['image'], batch['label']\n",
    "\n",
    "    def loss_fn(params):\n",
    "        logits = state.apply_fn({'params': params}, inputs)\n",
    "        loss = optax.softmax_cross_entropy_with_integer_labels(\n",
    "            logits, labels\n",
    "        ).mean()\n",
    "        return loss, logits\n",
    "\n",
    "    grad_fn = jax.value_and_grad(loss_fn, has_aux=True)\n",
    "    (loss, logits), grads = grad_fn(state.params)\n",
    "    state = state.apply_gradients(grads=grads)\n",
    "\n",
    "    # create logs\n",
    "    logs = ciclo.logs() # Dict[str, Dict[str, Any]]\n",
    "    metric_updates = state.metrics.single_from_model_output(\n",
    "        logits=logits, labels=labels, loss=loss\n",
    "    )\n",
    "    metrics = state.metrics.merge(metric_updates)\n",
    "    logs.add_stateful_metrics(metrics.compute())\n",
    "\n",
    "    return logs, state.replace(metrics=metrics)\n",
    "\n",
    "@jax.jit\n",
    "def test_step(state, batch):\n",
    "    inputs, labels = batch['image'], batch['label']\n",
    "\n",
    "    logits = state.apply_fn({'params': state.params}, inputs)\n",
    "    loss = optax.softmax_cross_entropy_with_integer_labels(\n",
    "        logits, labels\n",
    "    ).mean()\n",
    "\n",
    "    metric_updates = state.metrics.single_from_model_output(\n",
    "        logits=logits, labels=labels, loss=loss\n",
    "    )\n",
    "    metrics = state.metrics.merge(metric_updates)\n",
    "    # create logs\n",
    "    logs = ciclo.logs() # Dict[str, Dict[str, Any]]\n",
    "    logs.add_stateful_metrics(metrics.compute())\n",
    "\n",
    "    return logs, state.replace(metrics=metrics)"
   ]
  },
  {
   "cell_type": "code",
   "execution_count": 20,
   "metadata": {},
   "outputs": [
    {
     "name": "stdout",
     "output_type": "stream",
     "text": [
      "10000/10000 [==============================] - 28s 3ms/step - accuracy: 0.8864 - loss: 5.3524 - accuracy_valid: 0.8853 - loss_valid: 5.5725\n"
     ]
    }
   ],
   "source": [
    "total_step = 10_000\n",
    "state = create_state()\n",
    "\n",
    "state, history, elapsed = ciclo.loop(\n",
    "    state,\n",
    "    ds_train.as_numpy_iterator(),\n",
    "    {\n",
    "        ciclo.every(1): train_step,\n",
    "        ciclo.every(1000, steps_offset=100): [\n",
    "            reset_metrics,\n",
    "            ciclo.inner_loop(\n",
    "                \"valid\",\n",
    "                lambda state: ciclo.loop(\n",
    "                    state,\n",
    "                    ds_valid.as_numpy_iterator(),\n",
    "                    {\n",
    "                        ciclo.every(1): test_step,\n",
    "                    },\n",
    "                )\n",
    "            )\n",
    "        ],\n",
    "        **ciclo.keras_bar(total=total_step),\n",
    "    },\n",
    "    stop=total_step,\n",
    ")"
   ]
  },
  {
   "cell_type": "code",
   "execution_count": 21,
   "metadata": {},
   "outputs": [],
   "source": [
    "steps, losses, losses_valid, accs, accs_valid = history.collect(\"steps\", \"loss\", \"loss_valid\", \"accuracy\", \"accuracy_valid\")"
   ]
  },
  {
   "cell_type": "code",
   "execution_count": 22,
   "metadata": {},
   "outputs": [
    {
     "data": {
      "text/plain": [
       "<matplotlib.legend.Legend at 0x7f7b345a4520>"
      ]
     },
     "execution_count": 22,
     "metadata": {},
     "output_type": "execute_result"
    },
    {
     "data": {
      "image/png": "[encoded data removed]",
      "text/plain": [
       "<Figure size 640x480 with 2 Axes>"
      ]
     },
     "metadata": {},
     "output_type": "display_data"
    }
   ],
   "source": [
    "# plot the loss and accuracy\n",
    "fig, axs = plt.subplots(2, 1)\n",
    "axs[0].plot(steps, losses, label=\"train\")\n",
    "axs[0].plot(steps, losses_valid, label=\"valid\")\n",
    "axs[0].set_title(\"Loss\")\n",
    "axs[0].legend()\n",
    "axs[1].plot(steps, accs, label=\"train\")\n",
    "axs[1].plot(steps, accs_valid, label=\"valid\")\n",
    "axs[1].set_title(\"Accuracy\")\n",
    "axs[1].legend()"
   ]
  },
  {
   "cell_type": "code",
   "execution_count": 19,
   "metadata": {},
   "outputs": [
    {
     "data": {
      "text/plain": [
       "[2, 1002, 2002, 3002, 4002, 5002, 6002, 7002, 8002, 9002]"
      ]
     },
     "execution_count": 19,
     "metadata": {},
     "output_type": "execute_result"
    }
   ],
   "source": [
    "steps"
   ]
  },
  {
   "cell_type": "code",
   "execution_count": null,
   "metadata": {},
   "outputs": [],
   "source": []
  }
 ],
 "metadata": {
  "kernelspec": {
   "display_name": ".venv",
   "language": "python",
   "name": "python3"
  },
  "language_info": {
   "codemirror_mode": {
    "name": "ipython",
    "version": 3
   },
   "file_extension": ".py",
   "mimetype": "text/x-python",
   "name": "python",
   "nbconvert_exporter": "python",
   "pygments_lexer": "ipython3",
   "version": "3.8.10 (default, Nov 14 2022, 12:59:47) \n[GCC 9.4.0]"
  },
  "orig_nbformat": 4,
  "vscode": {
   "interpreter": {
    "hash": "837323b0680a91cd479a755ec15454285571187869c11482e423dcee05b47bf8"
   }
  }
 },
 "nbformat": 4,
 "nbformat_minor": 2
}
